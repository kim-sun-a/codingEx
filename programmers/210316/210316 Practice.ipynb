{
 "cells": [
  {
   "cell_type": "code",
   "execution_count": 1,
   "metadata": {},
   "outputs": [
    {
     "name": "stdout",
     "output_type": "stream",
     "text": [
      "5\n"
     ]
    }
   ],
   "source": [
    "print(5)"
   ]
  },
  {
   "cell_type": "code",
   "execution_count": 3,
   "metadata": {},
   "outputs": [
    {
     "name": "stdout",
     "output_type": "stream",
     "text": [
      "11\n",
      "Title is python\n"
     ]
    }
   ],
   "source": [
    "x=5\n",
    "y=6\n",
    "print(x+y)\n",
    "\n",
    "title = \"python\"\n",
    "\n",
    "print(\"Title is \"+title)"
   ]
  },
  {
   "cell_type": "code",
   "execution_count": 4,
   "metadata": {},
   "outputs": [
    {
     "name": "stdout",
     "output_type": "stream",
     "text": [
      "입력: hello\n",
      "HELLOWorld@@\n"
     ]
    }
   ],
   "source": [
    "in_str = input(\"입력: \")\n",
    "print(in_str.upper()+\"World@@\")"
   ]
  },
  {
   "cell_type": "code",
   "execution_count": 8,
   "metadata": {},
   "outputs": [
    {
     "name": "stdout",
     "output_type": "stream",
     "text": [
      "아이디 입력: dd\n",
      "who are you?\n"
     ]
    }
   ],
   "source": [
    "in_str = input(\"아이디 입력: \")\n",
    "real_eg = \"eg\"\n",
    "real_k = \"k\"\n",
    "if real_eg == in_str or real_k == in_str:\n",
    "    print(\"Hello\")\n",
    "else:\n",
    "    print(\"who are you?\")"
   ]
  },
  {
   "cell_type": "code",
   "execution_count": 9,
   "metadata": {},
   "outputs": [
    {
     "name": "stdout",
     "output_type": "stream",
     "text": [
      "15\n"
     ]
    }
   ],
   "source": [
    "array = [3,5,1,2,4]\n",
    "summary = 0\n",
    "\n",
    "for x in array:\n",
    "    summary += x\n",
    "\n",
    "print(summary)"
   ]
  },
  {
   "cell_type": "code",
   "execution_count": 10,
   "metadata": {},
   "outputs": [
    {
     "name": "stdout",
     "output_type": "stream",
     "text": [
      "9\n",
      "15\n",
      "3\n",
      "6\n",
      "12\n",
      "15\n",
      "25\n",
      "5\n",
      "10\n",
      "20\n",
      "3\n",
      "5\n",
      "1\n",
      "2\n",
      "4\n",
      "6\n",
      "10\n",
      "2\n",
      "4\n",
      "8\n",
      "12\n",
      "20\n",
      "4\n",
      "8\n",
      "16\n"
     ]
    }
   ],
   "source": [
    "array = [3,5,1,2,4]\n",
    "summary = 0\n",
    "\n",
    "for i in array:\n",
    "    for j in array:\n",
    "        temp = i*j\n",
    "        print(temp)"
   ]
  },
  {
   "cell_type": "code",
   "execution_count": 11,
   "metadata": {},
   "outputs": [
    {
     "name": "stdout",
     "output_type": "stream",
     "text": [
      "[[0, 0, 0], [0, 0, 0], [0, 0, 0], [0, 0, 0]]\n"
     ]
    }
   ],
   "source": [
    "n = 4\n",
    "m = 3\n",
    "array = [[0]*m]*n\n",
    "print(array)"
   ]
  },
  {
   "cell_type": "code",
   "execution_count": 13,
   "metadata": {},
   "outputs": [
    {
     "name": "stdout",
     "output_type": "stream",
     "text": [
      "hello python\n",
      "hello python\n",
      "hello python\n",
      "hello python\n",
      "hello python\n"
     ]
    }
   ],
   "source": [
    "#반복ㅇㄹ 의한 변수의 값을 무시하고자 할때\n",
    "summary = 0\n",
    "for _ in range(5):\n",
    "    print(\"hello python\")"
   ]
  },
  {
   "cell_type": "code",
   "execution_count": 24,
   "metadata": {},
   "outputs": [
    {
     "name": "stdout",
     "output_type": "stream",
     "text": [
      "5\n"
     ]
    }
   ],
   "source": [
    "array = [1,5,2,6,3,7,4]\n",
    "list2 = [[2,5,3], [4,4,1], [1,7,3]]\n",
    "\n",
    "\n",
    "one = list2[0][0]\n",
    "    \n",
    "print(two)"
   ]
  },
  {
   "cell_type": "code",
   "execution_count": null,
   "metadata": {},
   "outputs": [],
   "source": [
    "def solution(numbers):\n",
    "    answer = []\n",
    "    \n",
    "    for i in range(len(numbers)):\n",
    "        for j in range(i+1, len(numbers)):\n",
    "            if numbers[i]+numbers[j] not in answer:\n",
    "                answer.append(numbers[i]+numbers[j])\n",
    "    answer.sort()\n",
    "    return answer"
   ]
  },
  {
   "cell_type": "code",
   "execution_count": null,
   "metadata": {},
   "outputs": [],
   "source": [
    "def solution(answers):\n",
    "    answer = []\n",
    "    \n",
    "    count1=0\n",
    "    count2=0\n",
    "    count3=0\n",
    "    \n",
    "    std1 = [1,2,3,4,5]\n",
    "    std2 = [2,1,2,3,2,4,2,5]\n",
    "    std3 = [3,3,1,1,2,2,4,4,5,5]\n",
    "    \n",
    "    for i in range(len(answers)):\n",
    "        if answers[i] == std1[i%5]: count1 += 1\n",
    "        if answers[i] == std2[i%8]: count2 += 1\n",
    "        if answers[i] == std3[i%10]: count3 += 1\n",
    "    \n",
    "    mac = max(count1, count2, count3)\n",
    "    \n",
    "    if(mac == count1): answer.append(1)\n",
    "    if(mac == count2): answer.append(2)\n",
    "    if(mac == count3): answer.append(3)\n",
    "        \n",
    "    answer.sort()\n",
    "    \n",
    "    return answer"
   ]
  },
  {
   "cell_type": "code",
   "execution_count": 34,
   "metadata": {},
   "outputs": [
    {
     "name": "stdout",
     "output_type": "stream",
     "text": [
      "12\n"
     ]
    }
   ],
   "source": [
    "a = 3\n",
    "b=5\n",
    "answer = 0\n",
    "\n",
    "for i in range(a, b+1):\n",
    "    if(a==b):\n",
    "        answer = a\n",
    "    answer += i\n",
    "\n",
    "print(answer)"
   ]
  },
  {
   "cell_type": "code",
   "execution_count": null,
   "metadata": {},
   "outputs": [],
   "source": [
    "def solution(s):\n",
    "    answer = True\n",
    "    \n",
    "    # [실행] 버튼을 누르면 출력 값을 볼 수 있습니다.\n",
    "    #print('Hello Python')\n",
    "    count1 =0\n",
    "    count2 =0\n",
    "    \n",
    "    for i in s:\n",
    "        if(i=='p' or i=='P'): count1+=1\n",
    "        if(i=='y' or i=='Y'): count2+=1\n",
    "    \n",
    "    if(count1!=count2): answer=False \n",
    "\n",
    "    return answer"
   ]
  }
 ],
 "metadata": {
  "kernelspec": {
   "display_name": "Python 3",
   "language": "python",
   "name": "python3"
  },
  "language_info": {
   "codemirror_mode": {
    "name": "ipython",
    "version": 3
   },
   "file_extension": ".py",
   "mimetype": "text/x-python",
   "name": "python",
   "nbconvert_exporter": "python",
   "pygments_lexer": "ipython3",
   "version": "3.7.4"
  }
 },
 "nbformat": 4,
 "nbformat_minor": 2
}
